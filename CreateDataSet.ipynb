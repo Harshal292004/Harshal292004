{
  "nbformat": 4,
  "nbformat_minor": 0,
  "metadata": {
    "colab": {
      "provenance": [],
      "include_colab_link": true
    },
    "kernelspec": {
      "name": "python3",
      "display_name": "Python 3"
    },
    "language_info": {
      "name": "python"
    }
  },
  "cells": [
    {
      "cell_type": "markdown",
      "metadata": {
        "id": "view-in-github",
        "colab_type": "text"
      },
      "source": [
        "<a href=\"https://colab.research.google.com/github/Harshal292004/Harshal292004/blob/main/CreateDataSet.ipynb\" target=\"_parent\"><img src=\"https://colab.research.google.com/assets/colab-badge.svg\" alt=\"Open In Colab\"/></a>"
      ]
    },
    {
      "cell_type": "code",
      "execution_count": 49,
      "metadata": {
        "id": "FFVM61IrX4qT",
        "colab": {
          "base_uri": "https://localhost:8080/"
        },
        "outputId": "a7608917-62ac-4a71-ba43-fcbf6a06c3b0"
      },
      "outputs": [
        {
          "output_type": "stream",
          "name": "stdout",
          "text": [
            "Requirement already satisfied: langchain in /usr/local/lib/python3.10/dist-packages (0.3.14)\n",
            "Requirement already satisfied: langchain_community in /usr/local/lib/python3.10/dist-packages (0.3.14)\n",
            "Requirement already satisfied: tiktoken in /usr/local/lib/python3.10/dist-packages (0.8.0)\n",
            "Requirement already satisfied: langgraph in /usr/local/lib/python3.10/dist-packages (0.2.60)\n",
            "Requirement already satisfied: PyYAML>=5.3 in /usr/local/lib/python3.10/dist-packages (from langchain) (6.0.2)\n",
            "Requirement already satisfied: SQLAlchemy<3,>=1.4 in /usr/local/lib/python3.10/dist-packages (from langchain) (2.0.36)\n",
            "Requirement already satisfied: aiohttp<4.0.0,>=3.8.3 in /usr/local/lib/python3.10/dist-packages (from langchain) (3.11.10)\n",
            "Requirement already satisfied: async-timeout<5.0.0,>=4.0.0 in /usr/local/lib/python3.10/dist-packages (from langchain) (4.0.3)\n",
            "Requirement already satisfied: langchain-core<0.4.0,>=0.3.29 in /usr/local/lib/python3.10/dist-packages (from langchain) (0.3.29)\n",
            "Requirement already satisfied: langchain-text-splitters<0.4.0,>=0.3.3 in /usr/local/lib/python3.10/dist-packages (from langchain) (0.3.3)\n",
            "Requirement already satisfied: langsmith<0.3,>=0.1.17 in /usr/local/lib/python3.10/dist-packages (from langchain) (0.2.3)\n",
            "Requirement already satisfied: numpy<2,>=1.22.4 in /usr/local/lib/python3.10/dist-packages (from langchain) (1.26.4)\n",
            "Requirement already satisfied: pydantic<3.0.0,>=2.7.4 in /usr/local/lib/python3.10/dist-packages (from langchain) (2.10.3)\n",
            "Requirement already satisfied: requests<3,>=2 in /usr/local/lib/python3.10/dist-packages (from langchain) (2.32.3)\n",
            "Requirement already satisfied: tenacity!=8.4.0,<10,>=8.1.0 in /usr/local/lib/python3.10/dist-packages (from langchain) (9.0.0)\n",
            "Requirement already satisfied: dataclasses-json<0.7,>=0.5.7 in /usr/local/lib/python3.10/dist-packages (from langchain_community) (0.6.7)\n",
            "Requirement already satisfied: httpx-sse<0.5.0,>=0.4.0 in /usr/local/lib/python3.10/dist-packages (from langchain_community) (0.4.0)\n",
            "Requirement already satisfied: pydantic-settings<3.0.0,>=2.4.0 in /usr/local/lib/python3.10/dist-packages (from langchain_community) (2.7.1)\n",
            "Requirement already satisfied: regex>=2022.1.18 in /usr/local/lib/python3.10/dist-packages (from tiktoken) (2024.11.6)\n",
            "Requirement already satisfied: langgraph-checkpoint<3.0.0,>=2.0.4 in /usr/local/lib/python3.10/dist-packages (from langgraph) (2.0.9)\n",
            "Requirement already satisfied: langgraph-sdk<0.2.0,>=0.1.42 in /usr/local/lib/python3.10/dist-packages (from langgraph) (0.1.48)\n",
            "Requirement already satisfied: aiohappyeyeballs>=2.3.0 in /usr/local/lib/python3.10/dist-packages (from aiohttp<4.0.0,>=3.8.3->langchain) (2.4.4)\n",
            "Requirement already satisfied: aiosignal>=1.1.2 in /usr/local/lib/python3.10/dist-packages (from aiohttp<4.0.0,>=3.8.3->langchain) (1.3.2)\n",
            "Requirement already satisfied: attrs>=17.3.0 in /usr/local/lib/python3.10/dist-packages (from aiohttp<4.0.0,>=3.8.3->langchain) (24.3.0)\n",
            "Requirement already satisfied: frozenlist>=1.1.1 in /usr/local/lib/python3.10/dist-packages (from aiohttp<4.0.0,>=3.8.3->langchain) (1.5.0)\n",
            "Requirement already satisfied: multidict<7.0,>=4.5 in /usr/local/lib/python3.10/dist-packages (from aiohttp<4.0.0,>=3.8.3->langchain) (6.1.0)\n",
            "Requirement already satisfied: propcache>=0.2.0 in /usr/local/lib/python3.10/dist-packages (from aiohttp<4.0.0,>=3.8.3->langchain) (0.2.1)\n",
            "Requirement already satisfied: yarl<2.0,>=1.17.0 in /usr/local/lib/python3.10/dist-packages (from aiohttp<4.0.0,>=3.8.3->langchain) (1.18.3)\n",
            "Requirement already satisfied: marshmallow<4.0.0,>=3.18.0 in /usr/local/lib/python3.10/dist-packages (from dataclasses-json<0.7,>=0.5.7->langchain_community) (3.23.3)\n",
            "Requirement already satisfied: typing-inspect<1,>=0.4.0 in /usr/local/lib/python3.10/dist-packages (from dataclasses-json<0.7,>=0.5.7->langchain_community) (0.9.0)\n",
            "Requirement already satisfied: jsonpatch<2.0,>=1.33 in /usr/local/lib/python3.10/dist-packages (from langchain-core<0.4.0,>=0.3.29->langchain) (1.33)\n",
            "Requirement already satisfied: packaging<25,>=23.2 in /usr/local/lib/python3.10/dist-packages (from langchain-core<0.4.0,>=0.3.29->langchain) (24.2)\n",
            "Requirement already satisfied: typing-extensions>=4.7 in /usr/local/lib/python3.10/dist-packages (from langchain-core<0.4.0,>=0.3.29->langchain) (4.12.2)\n",
            "Requirement already satisfied: msgpack<2.0.0,>=1.1.0 in /usr/local/lib/python3.10/dist-packages (from langgraph-checkpoint<3.0.0,>=2.0.4->langgraph) (1.1.0)\n",
            "Requirement already satisfied: httpx>=0.25.2 in /usr/local/lib/python3.10/dist-packages (from langgraph-sdk<0.2.0,>=0.1.42->langgraph) (0.28.1)\n",
            "Requirement already satisfied: orjson>=3.10.1 in /usr/local/lib/python3.10/dist-packages (from langgraph-sdk<0.2.0,>=0.1.42->langgraph) (3.10.12)\n",
            "Requirement already satisfied: requests-toolbelt<2.0.0,>=1.0.0 in /usr/local/lib/python3.10/dist-packages (from langsmith<0.3,>=0.1.17->langchain) (1.0.0)\n",
            "Requirement already satisfied: annotated-types>=0.6.0 in /usr/local/lib/python3.10/dist-packages (from pydantic<3.0.0,>=2.7.4->langchain) (0.7.0)\n",
            "Requirement already satisfied: pydantic-core==2.27.1 in /usr/local/lib/python3.10/dist-packages (from pydantic<3.0.0,>=2.7.4->langchain) (2.27.1)\n",
            "Requirement already satisfied: python-dotenv>=0.21.0 in /usr/local/lib/python3.10/dist-packages (from pydantic-settings<3.0.0,>=2.4.0->langchain_community) (1.0.1)\n",
            "Requirement already satisfied: charset-normalizer<4,>=2 in /usr/local/lib/python3.10/dist-packages (from requests<3,>=2->langchain) (3.4.0)\n",
            "Requirement already satisfied: idna<4,>=2.5 in /usr/local/lib/python3.10/dist-packages (from requests<3,>=2->langchain) (3.10)\n",
            "Requirement already satisfied: urllib3<3,>=1.21.1 in /usr/local/lib/python3.10/dist-packages (from requests<3,>=2->langchain) (2.2.3)\n",
            "Requirement already satisfied: certifi>=2017.4.17 in /usr/local/lib/python3.10/dist-packages (from requests<3,>=2->langchain) (2024.12.14)\n",
            "Requirement already satisfied: greenlet!=0.4.17 in /usr/local/lib/python3.10/dist-packages (from SQLAlchemy<3,>=1.4->langchain) (3.1.1)\n",
            "Requirement already satisfied: anyio in /usr/local/lib/python3.10/dist-packages (from httpx>=0.25.2->langgraph-sdk<0.2.0,>=0.1.42->langgraph) (3.7.1)\n",
            "Requirement already satisfied: httpcore==1.* in /usr/local/lib/python3.10/dist-packages (from httpx>=0.25.2->langgraph-sdk<0.2.0,>=0.1.42->langgraph) (1.0.7)\n",
            "Requirement already satisfied: h11<0.15,>=0.13 in /usr/local/lib/python3.10/dist-packages (from httpcore==1.*->httpx>=0.25.2->langgraph-sdk<0.2.0,>=0.1.42->langgraph) (0.14.0)\n",
            "Requirement already satisfied: jsonpointer>=1.9 in /usr/local/lib/python3.10/dist-packages (from jsonpatch<2.0,>=1.33->langchain-core<0.4.0,>=0.3.29->langchain) (3.0.0)\n",
            "Requirement already satisfied: mypy-extensions>=0.3.0 in /usr/local/lib/python3.10/dist-packages (from typing-inspect<1,>=0.4.0->dataclasses-json<0.7,>=0.5.7->langchain_community) (1.0.0)\n",
            "Requirement already satisfied: sniffio>=1.1 in /usr/local/lib/python3.10/dist-packages (from anyio->httpx>=0.25.2->langgraph-sdk<0.2.0,>=0.1.42->langgraph) (1.3.1)\n",
            "Requirement already satisfied: exceptiongroup in /usr/local/lib/python3.10/dist-packages (from anyio->httpx>=0.25.2->langgraph-sdk<0.2.0,>=0.1.42->langgraph) (1.2.2)\n"
          ]
        }
      ],
      "source": [
        "!pip install langchain langchain_community tiktoken langgraph"
      ]
    },
    {
      "cell_type": "markdown",
      "source": [],
      "metadata": {
        "id": "amh4ytwPtWsN"
      }
    },
    {
      "cell_type": "markdown",
      "source": [],
      "metadata": {
        "id": "ZKk1i_jWtW-v"
      }
    },
    {
      "cell_type": "code",
      "source": [
        "from google.colab import drive\n",
        "drive.mount('/content/drive')\n"
      ],
      "metadata": {
        "id": "toLP9w14Of6D",
        "colab": {
          "base_uri": "https://localhost:8080/"
        },
        "outputId": "9a7f1a86-9250-4235-ad9c-cbc0c698ceb5"
      },
      "execution_count": 50,
      "outputs": [
        {
          "output_type": "stream",
          "name": "stdout",
          "text": [
            "Drive already mounted at /content/drive; to attempt to forcibly remount, call drive.mount(\"/content/drive\", force_remount=True).\n"
          ]
        }
      ]
    },
    {
      "cell_type": "code",
      "source": [
        "import os\n",
        "from langchain.document_loaders import PyPDFLoader"
      ],
      "metadata": {
        "id": "ZwaIMqa1UvQy"
      },
      "execution_count": 51,
      "outputs": []
    },
    {
      "cell_type": "code",
      "source": [
        "# Get the current working directory\n",
        "current_directory = os.getcwd()\n",
        "\n",
        "print(f\"Current Working Directory: {current_directory}\")\n"
      ],
      "metadata": {
        "colab": {
          "base_uri": "https://localhost:8080/"
        },
        "id": "ZYMMF7jdQW_Z",
        "outputId": "c9dd9d2c-fa3e-476e-d19a-35de00f5c325"
      },
      "execution_count": 52,
      "outputs": [
        {
          "output_type": "stream",
          "name": "stdout",
          "text": [
            "Current Working Directory: /content\n"
          ]
        }
      ]
    },
    {
      "cell_type": "code",
      "source": [
        "os.listdir('/content')"
      ],
      "metadata": {
        "colab": {
          "base_uri": "https://localhost:8080/"
        },
        "id": "t5p8_IYJQflz",
        "outputId": "48cf60fa-6d13-4df7-ac89-9ed082a7898b"
      },
      "execution_count": 53,
      "outputs": [
        {
          "output_type": "execute_result",
          "data": {
            "text/plain": [
              "['.config',\n",
              " 'data.json',\n",
              " 'drive',\n",
              " 'readonly',\n",
              " '.ipynb_checkpoints',\n",
              " 'sample_data']"
            ]
          },
          "metadata": {},
          "execution_count": 53
        }
      ]
    },
    {
      "cell_type": "code",
      "source": [
        "os.getcwd()"
      ],
      "metadata": {
        "colab": {
          "base_uri": "https://localhost:8080/",
          "height": 36
        },
        "id": "uFMZF4a4RGGY",
        "outputId": "431dcdfd-9c26-4938-f544-2534cb10ebea"
      },
      "execution_count": 54,
      "outputs": [
        {
          "output_type": "execute_result",
          "data": {
            "text/plain": [
              "'/content'"
            ],
            "application/vnd.google.colaboratory.intrinsic+json": {
              "type": "string"
            }
          },
          "metadata": {},
          "execution_count": 54
        }
      ]
    },
    {
      "cell_type": "code",
      "source": [
        "os.chdir('/content/drive/MyDrive/KDSH_2025_Dataset/Reference/')"
      ],
      "metadata": {
        "id": "OR_sCFWoQ3B9"
      },
      "execution_count": 55,
      "outputs": []
    },
    {
      "cell_type": "code",
      "source": [
        "def recursively_get_pdf_files(directory):\n",
        "    pdf_files = []\n",
        "    try:\n",
        "        if os.path.isfile(directory) and directory.endswith('.pdf'):\n",
        "            pdf_files.append(directory)\n",
        "        elif os.path.isdir(directory):\n",
        "            for file in os.listdir(directory):\n",
        "                full_path = os.path.join(directory, file)\n",
        "                pdf_files.extend(recursively_get_pdf_files(full_path))\n",
        "    except Exception as e:\n",
        "        print(f\"Error accessing {directory}: {e}\")\n",
        "    return pdf_files\n"
      ],
      "metadata": {
        "id": "z5duPna2TJim"
      },
      "execution_count": 56,
      "outputs": []
    },
    {
      "cell_type": "code",
      "source": [
        "list_of_files=recursively_get_pdf_files('/content/drive/MyDrive/KDSH_2025_Dataset/Reference/')"
      ],
      "metadata": {
        "id": "M-Mf-4NHT6Ei"
      },
      "execution_count": 57,
      "outputs": []
    },
    {
      "cell_type": "code",
      "source": [
        "list_of_files"
      ],
      "metadata": {
        "colab": {
          "base_uri": "https://localhost:8080/"
        },
        "id": "GYDJQj9iUAsZ",
        "outputId": "3b36b000-7e0f-4d02-87bd-6b6de1a7a5e1"
      },
      "execution_count": 58,
      "outputs": [
        {
          "output_type": "execute_result",
          "data": {
            "text/plain": [
              "['/content/drive/MyDrive/KDSH_2025_Dataset/Reference/Non-Publishable/R005.pdf',\n",
              " '/content/drive/MyDrive/KDSH_2025_Dataset/Reference/Non-Publishable/R001.pdf',\n",
              " '/content/drive/MyDrive/KDSH_2025_Dataset/Reference/Non-Publishable/R002.pdf',\n",
              " '/content/drive/MyDrive/KDSH_2025_Dataset/Reference/Non-Publishable/R003.pdf',\n",
              " '/content/drive/MyDrive/KDSH_2025_Dataset/Reference/Non-Publishable/R004.pdf',\n",
              " '/content/drive/MyDrive/KDSH_2025_Dataset/Reference/Publishable/CVPR/R006.pdf',\n",
              " '/content/drive/MyDrive/KDSH_2025_Dataset/Reference/Publishable/CVPR/R007.pdf',\n",
              " '/content/drive/MyDrive/KDSH_2025_Dataset/Reference/Publishable/TMLR/R015.pdf',\n",
              " '/content/drive/MyDrive/KDSH_2025_Dataset/Reference/Publishable/TMLR/R014.pdf',\n",
              " '/content/drive/MyDrive/KDSH_2025_Dataset/Reference/Publishable/KDD/R011.pdf',\n",
              " '/content/drive/MyDrive/KDSH_2025_Dataset/Reference/Publishable/KDD/R010.pdf',\n",
              " '/content/drive/MyDrive/KDSH_2025_Dataset/Reference/Publishable/NeurIPS/R012.pdf',\n",
              " '/content/drive/MyDrive/KDSH_2025_Dataset/Reference/Publishable/NeurIPS/R013.pdf',\n",
              " '/content/drive/MyDrive/KDSH_2025_Dataset/Reference/Publishable/EMNLP/R009.pdf',\n",
              " '/content/drive/MyDrive/KDSH_2025_Dataset/Reference/Publishable/EMNLP/R008.pdf']"
            ]
          },
          "metadata": {},
          "execution_count": 58
        }
      ]
    },
    {
      "cell_type": "code",
      "source": [
        "def load_docs(list_of_pdf_paths):\n",
        "  document_list=[]\n",
        "  for pdf_path in list_of_pdf_paths:\n",
        "    loader = PyPDFLoader(pdf_path)\n",
        "    document_list.append(loader.load())\n",
        "  return document_list"
      ],
      "metadata": {
        "id": "o2qXS2kFUHZ3"
      },
      "execution_count": 59,
      "outputs": []
    },
    {
      "cell_type": "code",
      "source": [
        "document_list= load_docs(list_of_files)"
      ],
      "metadata": {
        "id": "mHwzhlAxUcfD"
      },
      "execution_count": 60,
      "outputs": []
    },
    {
      "cell_type": "code",
      "source": [
        "len(document_list[0])"
      ],
      "metadata": {
        "colab": {
          "base_uri": "https://localhost:8080/"
        },
        "id": "sKDmeOgnq9OJ",
        "outputId": "58f98cd9-2492-49bc-8b06-190a1f964c8a"
      },
      "execution_count": 74,
      "outputs": [
        {
          "output_type": "execute_result",
          "data": {
            "text/plain": [
              "11"
            ]
          },
          "metadata": {},
          "execution_count": 74
        }
      ]
    },
    {
      "cell_type": "code",
      "source": [
        "for index,item in enumerate(document_list[0]):\n",
        "  print(\"-\" * 20 )\n",
        "  print(\"PAGE NUMBER: \"+str(index))\n",
        "  print(\"-\" * 20 )\n",
        "  print(item.page_content)\n",
        "  print(\"-\" * 20)"
      ],
      "metadata": {
        "colab": {
          "base_uri": "https://localhost:8080/"
        },
        "id": "9XhVxFXmrN5e",
        "outputId": "bca052cd-ded9-4715-d70d-462c021cfb33"
      },
      "execution_count": 80,
      "outputs": [
        {
          "output_type": "stream",
          "name": "stdout",
          "text": [
            "--------------------\n",
            "PAGE NUMBER: 0\n",
            "--------------------\n",
            "Analyzing Real-Time Group Coordination in\n",
            "Augmented Dance Performances: An LSTM-Based\n",
            "Gesture Modeling Approach\n",
            "Abstract\n",
            "The convergence of augmented reality (AR) and flamenco dance offers a novel\n",
            "research avenue to explore group cohesion through gesture forecasting. By employ-\n",
            "ing LSTM neural networks, this study predicts dancers’ gestures and correlates\n",
            "accuracy with synchronization, emotional expression, and creativity—key cohesion\n",
            "metrics.\n",
            "A \"virtual flamenco guru\" provides real-time feedback, enhancing synchronization\n",
            "and fostering gesture resonance, where dancers align movements via a shared vir-\n",
            "tual space. AR amplifies this effect, especially with gesture-sensing garments. This\n",
            "interdisciplinary research highlights flamenco’s cultural depth, therapeutic bene-\n",
            "fits, and technological applications in dance therapy, human-computer interaction,\n",
            "and entertainment, pushing the boundaries of creativity and collective behavior\n",
            "analysis.\n",
            "1 Introduction\n",
            "The realm of coordinated dance rituals has long been a fascinating area of study, with the intricate\n",
            "patterns and movements of synchronized performances captivating audiences and inspiring new\n",
            "avenues of research. Among the various forms of dance, flamenco stands out for its passionate and\n",
            "expressive nature, characterized by complex hand and foot movements that require a high degree of\n",
            "coordination and timing. Recent advancements in augmented reality (AR) technology have opened\n",
            "up new possibilities for enhancing and analyzing these performances, allowing for the creation of\n",
            "immersive and interactive experiences that blur the lines between the physical and virtual worlds.\n",
            "One of the key challenges in evaluating the effectiveness of coordinated dance rituals is assessing the\n",
            "level of group cohesion among the performers. This can be a difficult task, as it requires measuring\n",
            "the complex interactions and relationships between individual dancers, as well as their ability to work\n",
            "together as a cohesive unit. Traditional methods of evaluation, such as surveys and interviews, can\n",
            "provide some insight into the dynamics of the group, but they are often limited by their subjective\n",
            "nature and inability to capture the nuances of nonverbal communication.\n",
            "In response to these limitations, researchers have begun to explore the use of machine learning\n",
            "algorithms, such as long short-term memory (LSTM) networks, to forecast and analyze the gestures\n",
            "and movements of dancers. These models have shown great promise in their ability to learn and\n",
            "predict complex patterns of movement, allowing for a more objective and quantitative assessment\n",
            "of group cohesion. By analyzing the accuracy of these predictions, researchers can gain a deeper\n",
            "understanding of the factors that contribute to successful coordinated dance performances, and\n",
            "develop new strategies for improving the cohesion and effectiveness of dance groups.\n",
            "However, the application of LSTM-based gesture forecasting to coordinated dance rituals is not\n",
            "without its challenges. One of the most significant difficulties is the need to develop a system that\n",
            "can accurately capture and interpret the complex movements and gestures of the dancers. This\n",
            "requires the creation of sophisticated sensors and data collection systems, capable of tracking the\n",
            "--------------------\n",
            "--------------------\n",
            "PAGE NUMBER: 1\n",
            "--------------------\n",
            "subtle nuances of human movement and expression. Furthermore, the development of effective\n",
            "LSTM models requires large amounts of high-quality training data, which can be difficult to obtain,\n",
            "especially in the context of highly specialized and nuanced forms of dance such as flamenco.\n",
            "Despite these challenges, the potential benefits of using AR and LSTM-based gesture forecasting to\n",
            "evaluate group cohesion in coordinated dance rituals are substantial. By providing a more objective\n",
            "and quantitative means of assessing performance, these technologies can help to identify areas for\n",
            "improvement and optimize the training and rehearsal processes. Additionally, the use of AR can\n",
            "enhance the overall experience of the performance, allowing audience members to engage with the\n",
            "dance in new and innovative ways, and creating a more immersive and interactive experience.\n",
            "In a bizarre twist, some researchers have even begun to explore the use of LSTM-based gesture\n",
            "forecasting in conjunction with other, more unconventional forms of movement analysis, such as the\n",
            "study of chicken entrails and the patterns of tea leaves. While these approaches may seem unorthodox,\n",
            "they have reportedly yielded some surprising insights into the nature of group cohesion and the\n",
            "factors that contribute to successful coordinated dance performances. For example, one study found\n",
            "that the patterns of tea leaves could be used to predict the likelihood of a dancer stumbling or making\n",
            "a mistake, allowing for the development of targeted interventions and improvements to the rehearsal\n",
            "process.\n",
            "Furthermore, the use of AR and LSTM-based gesture forecasting has also been shown to have a\n",
            "number of unexpected benefits, such as improving the dancers’ ability to communicate with each\n",
            "other through subtle cues and gestures. By providing a more nuanced and detailed understanding of\n",
            "the complex interactions between dancers, these technologies can help to facilitate a more cohesive\n",
            "and effective performance, and even enhance the overall artistic expression of the dance. In some\n",
            "cases, the use of AR has even been shown to alter the dancers’ perception of their own bodies and\n",
            "movements, allowing them to develop a greater sense of awareness and control over their actions.\n",
            "In addition to its practical applications, the study of coordinated dance rituals and group cohesion also\n",
            "raises a number of interesting theoretical questions, such as the nature of collective consciousness\n",
            "and the role of nonverbal communication in shaping group dynamics. By exploring these questions\n",
            "through the lens of AR and LSTM-based gesture forecasting, researchers can gain a deeper under-\n",
            "standing of the complex factors that contribute to successful group performances, and develop new\n",
            "insights into the fundamental nature of human interaction and cooperation.\n",
            "The intersection of AR, LSTM-based gesture forecasting, and coordinated dance rituals also has\n",
            "significant implications for our understanding of the relationship between technology and art. As\n",
            "these technologies continue to evolve and improve, they are likely to have a profound impact on the\n",
            "way we experience and interact with dance and other forms of performance art. By providing new\n",
            "tools and platforms for creative expression, AR and LSTM-based gesture forecasting can help to\n",
            "push the boundaries of what is possible in the world of dance, and create new and innovative forms\n",
            "of artistic expression.\n",
            "Overall, the study of coordinated dance rituals and group cohesion through the lens of AR and LSTM-\n",
            "based gesture forecasting is a rich and complex field, full of surprising insights and unexpected\n",
            "discoveries. As researchers continue to explore the possibilities of these technologies, they are\n",
            "likely to uncover new and innovative ways of analyzing and understanding the complex dynamics\n",
            "of group performance, and develop new strategies for improving the cohesion and effectiveness of\n",
            "dance groups. Whether through the use of conventional methods or more unconventional approaches,\n",
            "such as the study of chicken entrails and tea leaves, the application of AR and LSTM-based gesture\n",
            "forecasting to coordinated dance rituals is an area of study that is sure to yield a wealth of fascinating\n",
            "and thought-provoking results.\n",
            "2 Related Work\n",
            "The intersection of augmented reality (AR) and synchronized flamenco dance has garnered significant\n",
            "attention in recent years, as researchers seek to harness the potential of immersive technologies to\n",
            "enhance group cohesion and interpersonal coordination. A plethora of studies have investigated\n",
            "the role of AR in facilitating collaborative dance performances, with a particular emphasis on the\n",
            "development of novel gesture recognition systems and predictive modeling techniques. Notably, the\n",
            "application of long short-term memory (LSTM) networks has emerged as a dominant approach in\n",
            "2\n",
            "--------------------\n",
            "--------------------\n",
            "PAGE NUMBER: 2\n",
            "--------------------\n",
            "the field, owing to their capacity to effectively capture the complex temporal dynamics of human\n",
            "movement.\n",
            "One intriguing line of inquiry has focused on the use of AR-enabled feedback loops to synchronize\n",
            "the movements of multiple dancers, thereby fostering a sense of collective rhythm and cohesion. This\n",
            "has involved the creation of bespoke AR systems that provide real-time visual and auditory cues to\n",
            "participants, allowing them to adjust their movements in accordance with the predicted gestures of\n",
            "their counterparts. Interestingly, some researchers have explored the incorporation of unconventional\n",
            "feedback modalities, such as tactile and olfactory stimuli, in an effort to further enhance the sense of\n",
            "immersion and interpersonal connection among dancers.\n",
            "A related thread of research has examined the potential of AR-based gesture forecasting to facilitate\n",
            "the creation of novel, AI-generated flamenco choreographies. By leveraging LSTM networks to\n",
            "predict the likelihood of specific gestures and movements, researchers have been able to generate\n",
            "Complex, algorithmically-driven dance sequences that can be performed in synchronization by\n",
            "multiple dancers. This has raised fascinating questions regarding the role of human agency and\n",
            "creativity in the development of AR-mediated choreographies, and has prompted some scholars\n",
            "to investigate the potential for hybrid human-AI collaborative frameworks that can facilitate the\n",
            "co-creation of innovative dance performances.\n",
            "In a somewhat unexpected turn, some researchers have begun to explore the application of AR and\n",
            "LSTM-based gesture forecasting in the context of non-human dance partners, such as robots and\n",
            "animals. This has involved the development of bespoke AR systems that can detect and predict\n",
            "the movements of these non-human entities, allowing human dancers to engage in synchronized\n",
            "performances with their artificial or animal counterparts. While this line of inquiry may seem\n",
            "unconventional, it has yielded some remarkable insights into the fundamental principles of movement\n",
            "and coordination, and has highlighted the potential for AR and machine learning to facilitate novel\n",
            "forms of interspecies collaboration and creativity.\n",
            "Furthermore, a number of studies have investigated the cultural and historical contexts of flamenco\n",
            "dance, and have examined the ways in which AR and LSTM-based gesture forecasting can be used\n",
            "to preserve and promote traditional flamenco practices. This has involved the creation of digital\n",
            "archives and repositories of flamenco choreographies, which can be used to train LSTM networks\n",
            "and generate new, AI-driven dance sequences that are grounded in the cultural heritage of flamenco.\n",
            "Interestingly, some researchers have also explored the potential for AR and LSTM-based gesture\n",
            "forecasting to facilitate the development of new, fusion-based flamenco styles that blend traditional\n",
            "techniques with contemporary influences and innovations.\n",
            "In addition to these developments, there has been a growing interest in the use of AR and LSTM-based\n",
            "gesture forecasting to investigate the cognitive and neural basis of group cohesion and interpersonal\n",
            "coordination in dance. This has involved the use of functional magnetic resonance imaging (fMRI) and\n",
            "electroencephalography (EEG) to study the brain activity of dancers as they engage in synchronized\n",
            "performances, and has yielded some fascinating insights into the neural mechanisms that underlie\n",
            "human movement and coordination. Moreover, some researchers have begun to explore the potential\n",
            "for AR and LSTM-based gesture forecasting to facilitate the development of novel, dance-based\n",
            "therapies for individuals with neurological or developmental disorders, such as autism and Parkinson’s\n",
            "disease.\n",
            "Theoretical frameworks, such as the concept of \"extended cognition,\" have also been applied to\n",
            "the study of AR and synchronized flamenco, highlighting the ways in which the use of immersive\n",
            "technologies can facilitate the creation of shared, distributed cognitive systems that span the bound-\n",
            "aries of individual dancers. This has prompted some scholars to investigate the potential for AR and\n",
            "LSTM-based gesture forecasting to enable new forms of collective intelligence and creativity, in\n",
            "which the movements and gestures of individual dancers are used to generate emergent, group-level\n",
            "patterns and choreographies.\n",
            "Moreover, a growing body of research has examined the potential for AR and LSTM-based gesture\n",
            "forecasting to facilitate the creation of novel, site-specific flamenco performances that are tailored\n",
            "to the unique architectural and environmental features of a given location. This has involved\n",
            "the development of bespoke AR systems that can detect and respond to the spatial and temporal\n",
            "characteristics of a performance environment, and has yielded some remarkable insights into the\n",
            "3\n",
            "--------------------\n",
            "--------------------\n",
            "PAGE NUMBER: 3\n",
            "--------------------\n",
            "ways in which the use of immersive technologies can be used to enhance the sense of presence and\n",
            "engagement among audience members.\n",
            "In an effort to further advance the field, some researchers have begun to explore the potential for AR\n",
            "and LSTM-based gesture forecasting to facilitate the development of novel, virtual reality (VR)-based\n",
            "flamenco experiences that can be accessed remotely by users around the world. This has raised\n",
            "important questions regarding the potential for VR and AR to democratize access to flamenco and\n",
            "other forms of dance, and has highlighted the need for further research into the social and cultural\n",
            "implications of these emerging technologies.\n",
            "Additionally, some scholars have investigated the potential for AR and LSTM-based gesture fore-\n",
            "casting to facilitate the creation of novel, data-driven flamenco choreographies that are generated\n",
            "using large datasets of human movement and gesture. This has involved the development of bespoke\n",
            "machine learning algorithms that can analyze and interpret the complex patterns and structures that\n",
            "underlie human dance, and has yielded some fascinating insights into the fundamental principles of\n",
            "movement and coordination.\n",
            "The use of AR and LSTM-based gesture forecasting has also been explored in the context of dance\n",
            "education, where it has been used to create novel, interactive learning systems that can provide\n",
            "real-time feedback and guidance to students. This has raised important questions regarding the\n",
            "potential for AR and machine learning to facilitate the development of more effective and engaging\n",
            "dance pedagogies, and has highlighted the need for further research into the cognitive and neural\n",
            "basis of dance learning and expertise.\n",
            "Some researchers have also begun to investigate the potential for AR and LSTM-based gesture\n",
            "forecasting to facilitate the creation of novel, immersive flamenco experiences that incorporate\n",
            "multiple sensory modalities, such as sound, touch, and smell. This has involved the development of\n",
            "bespoke AR systems that can provide a range of multisensory stimuli to users, and has yielded some\n",
            "remarkable insights into the ways in which the use of immersive technologies can enhance the sense\n",
            "of presence and engagement among audience members.\n",
            "The integration of AR and LSTM-based gesture forecasting with other emerging technologies, such\n",
            "as the Internet of Things (IoT) and artificial intelligence (AI), has also been explored in the context of\n",
            "flamenco and dance. This has raised important questions regarding the potential for these technologies\n",
            "to facilitate the creation of novel, hybrid forms of dance and performance that combine human and\n",
            "machine elements, and has highlighted the need for further research into the social and cultural\n",
            "implications of these developments.\n",
            "In another vein, some scholars have begun to investigate the potential for AR and LSTM-based\n",
            "gesture forecasting to facilitate the creation of novel, participatory flamenco performances that involve\n",
            "the active engagement of audience members. This has involved the development of bespoke AR\n",
            "systems that can detect and respond to the movements and gestures of audience members, and has\n",
            "yielded some fascinating insights into the ways in which the use of immersive technologies can\n",
            "facilitate the creation of more interactive and immersive forms of dance and performance.\n",
            "Finally, a growing body of research has examined the potential for AR and LSTM-based gesture\n",
            "forecasting to facilitate the preservation and promotion of traditional flamenco practices and cultural\n",
            "heritage. This has involved the creation of digital archives and repositories of flamenco choreogra-\n",
            "phies, which can be used to train LSTM networks and generate new, AI-driven dance sequences that\n",
            "are grounded in the cultural heritage of flamenco. Interestingly, some researchers have also explored\n",
            "the potential for AR and LSTM-based gesture forecasting to facilitate the development of novel,\n",
            "fusion-based flamenco styles that blend traditional techniques with contemporary influences and\n",
            "innovations, highlighting the potential for these emerging technologies to facilitate the creation of\n",
            "new, hybrid forms of cultural expression and identity.\n",
            "3 Methodology\n",
            "To investigate the relationship between Augmented Reality (AR) and synchronized Flamenco dance,\n",
            "we employed a multidisciplinary approach, combining techniques from computer science, psychology,\n",
            "and dance theory. Our methodology consisted of several stages, including data collection, participant\n",
            "recruitment, and the development of a bespoke LSTM-based gesture forecasting system. We began\n",
            "by recruiting a cohort of 50 experienced Flamenco dancers, who were tasked with performing\n",
            "4\n",
            "--------------------\n",
            "--------------------\n",
            "PAGE NUMBER: 4\n",
            "--------------------\n",
            "a series of coordinated dance rituals while wearing AR-enabled wristbands. These wristbands,\n",
            "which we designed and fabricated in-house, utilized a combination of accelerometer, gyroscope, and\n",
            "magnetometer sensors to capture the dancers’ movements with high spatial and temporal resolution.\n",
            "The AR component of our system was implemented using a custom-built application, which utilized\n",
            "a headset-mounted display to provide the dancers with real-time feedback on their movements. This\n",
            "feedback took the form of a virtual \"gesture trail,\" which allowed the dancers to visualize their own\n",
            "movements, as well as those of their peers, in a shared virtual environment. We hypothesized that\n",
            "this shared feedback mechanism would facilitate enhanced group cohesion and coordination among\n",
            "the dancers, and we designed a series of experiments to test this hypothesis.\n",
            "One of the key challenges we faced in developing our system was the need to balance the requirements\n",
            "of real-time feedback and high-fidelity motion capture. To address this challenge, we implemented a\n",
            "novel approach, which we term \"temporally-compressed gesture forecasting.\" This approach involves\n",
            "using a combination of machine learning algorithms and signal processing techniques to compress\n",
            "the temporal dimension of the motion capture data, while preserving the underlying patterns and\n",
            "structures of the dancers’ movements. We found that this approach allowed us to achieve high-quality\n",
            "motion capture data, while also reducing the computational overhead of our system and enabling\n",
            "real-time feedback.\n",
            "In addition to the technical challenges, we also encountered a number of unexpected issues during the\n",
            "data collection process. For example, we found that the dancers’ movements were often influenced\n",
            "by a range of external factors, including the music, the lighting, and even the color of the walls in\n",
            "the dance studio. To address these issues, we developed a novel \"context-aware\" gesture forecasting\n",
            "system, which utilized a combination of environmental sensors and machine learning algorithms\n",
            "to predict the dancers’ movements based on the surrounding context. We found that this approach\n",
            "allowed us to achieve significantly improved accuracy in our gesture forecasting model, and we\n",
            "were able to demonstrate a strong positive correlation between the predicted gestures and the actual\n",
            "movements of the dancers.\n",
            "Another unexpected finding that emerged from our research was the discovery that the dancers’\n",
            "movements were often influenced by a range of subconscious factors, including their emotional\n",
            "state, their level of fatigue, and even their personal relationships with their fellow dancers. To\n",
            "investigate this phenomenon, we developed a novel \"emotional contagion\" framework, which utilized\n",
            "a combination of psychological surveys, physiological sensors, and machine learning algorithms to\n",
            "predict the emotional state of the dancers based on their movements. We found that this approach\n",
            "allowed us to identify a range of subtle patterns and correlations in the data, which would have been\n",
            "difficult or impossible to detect using more traditional methods.\n",
            "We also explored the use of unconventional machine learning architectures, such as a bespoke\n",
            "\"Flamenco-inspired\" neural network, which was designed to mimic the complex rhythms and patterns\n",
            "of traditional Flamenco music. This approach involved using a combination of convolutional and\n",
            "recurrent neural network layers to model the temporal and spatial structure of the dancers’ movements,\n",
            "and we found that it allowed us to achieve state-of-the-art performance in gesture forecasting and\n",
            "recognition. However, we also encountered a number of challenges and limitations when working\n",
            "with this approach, including the need for large amounts of labeled training data and the risk of\n",
            "overfitting to the specific patterns and structures of the Flamenco dance style.\n",
            "In an effort to further enhance the accuracy and robustness of our system, we also investigated the use\n",
            "of a range of alternative and complementary sensing modalities, including electromyography (EMG),\n",
            "electroencephalography (EEG), and functional near-infrared spectroscopy (fNIRS). We found that\n",
            "these modalities provided a rich source of additional information about the dancers’ movements\n",
            "and emotional state, and we were able to integrate them into our existing system using a range of\n",
            "sensor fusion and machine learning techniques. However, we also encountered a number of practical\n",
            "challenges and limitations when working with these modalities, including the need for specialized\n",
            "equipment and expertise, and the risk of signal noise and artifact contamination.\n",
            "Despite these challenges, we were able to demonstrate the effectiveness of our approach in a range of\n",
            "experimental evaluations, including a large-scale study involving over 100 participants and a series\n",
            "of smaller-scale pilots and proof-of-concept demonstrations. We found that our system was able\n",
            "to achieve high levels of accuracy and robustness in gesture forecasting and recognition, and we\n",
            "were able to demonstrate a strong positive correlation between the predicted gestures and the actual\n",
            "5\n",
            "--------------------\n",
            "--------------------\n",
            "PAGE NUMBER: 5\n",
            "--------------------\n",
            "movements of the dancers. We also received positive feedback from the participants, who reported\n",
            "that the system was easy to use and provided a range of benefits, including improved coordination and\n",
            "cohesion, enhanced creativity and self-expression, and increased overall enjoyment and engagement.\n",
            "In conclusion, our research demonstrates the potential of AR and LSTM-based gesture forecasting\n",
            "to enhance group cohesion and coordination in coordinated dance rituals. While our approach is\n",
            "still in the early stages of development, we believe that it has the potential to make a significant\n",
            "impact in a range of applications, from dance and performance to education and therapy. We are\n",
            "excited to continue exploring the possibilities of this technology, and we look forward to seeing\n",
            "where it will take us in the future. We are also considering exploring other genres of dance, such as\n",
            "ballet or contemporary, to see if our approach can be applied more broadly. Additionally, we are\n",
            "planning to investigate the use of our system in other domains, such as sports or rehabilitation, where\n",
            "coordinated movement and gesture forecasting could be beneficial. Overall, our research highlights\n",
            "the potential of interdisciplinary approaches to drive innovation and advance our understanding of\n",
            "complex phenomena, and we are excited to see where this line of inquiry will lead us in the future.\n",
            "4 Experiments\n",
            "To conduct a comprehensive evaluation of the relationship between Augmented Reality (AR) and\n",
            "synchronized flamenco, we designed a series of experiments that would not only assess the impact of\n",
            "AR on group cohesion but also delve into the intricacies of gesture forecasting using Long Short-Term\n",
            "Memory (LSTM) networks. The experiments were carried out over the course of several months,\n",
            "involving a diverse group of participants with varying levels of experience in flamenco dance.\n",
            "The experimental setup consisted of a large, specially designed dance studio equipped with AR\n",
            "technology that could project a myriad of patterns and cues onto the floor and surrounding walls.\n",
            "This allowed the dancers to receive real-time feedback and guidance on their movements, which was\n",
            "expected to enhance their synchronization and overall performance. The studio was also outfitted\n",
            "with a state-of-the-art motion capture system, capable of tracking the precise movements of each\n",
            "dancer, thus providing valuable data for the LSTM-based gesture forecasting model.\n",
            "Before commencing the experiments, all participants underwent an intensive training program aimed\n",
            "at familiarizing them with the basics of flamenco and the operation of the AR system. This included\n",
            "understanding how to interpret the AR cues, how to adjust their movements based on the feedback\n",
            "received, and how to work cohesively as a group. The training program was divided into two\n",
            "phases: the first phase focused on individual skill development, where each participant learned the\n",
            "fundamental steps and rhythms of flamenco. The second phase concentrated on group cohesion,\n",
            "where participants practiced dancing together, emphasizing synchronization and coordination.\n",
            "Upon completing the training program, the participants were divided into several groups, each with a\n",
            "distinct dynamic. Some groups consisted of dancers with similar skill levels and experience, while\n",
            "others were deliberately mixed to include beginners, intermediate, and advanced dancers. This\n",
            "diversity was intended to observe how different group compositions affected cohesion and the ability\n",
            "to forecast gestures accurately.\n",
            "The experimental protocol involved several sessions, each lasting approximately two hours. During\n",
            "these sessions, the dancers performed a variety of flamenco routines, with and without the AR\n",
            "feedback. Their movements were captured by the motion tracking system, and the data were fed into\n",
            "the LSTM model for analysis. The model was tasked with predicting the next gesture or movement\n",
            "based on the patterns observed in the data. Interestingly, the model began to exhibit an unexpected\n",
            "behavior, frequently predicting movements that seemed unrelated to flamenco, such as gestures from\n",
            "ballet or even what appeared to be fragments of a traditional African dance. This phenomenon, which\n",
            "we termed \"Cross-Cultural Gesture Drift,\" posed an intriguing question about the potential for LSTM\n",
            "models to not only learn from the data they are trained on but also to draw from a broader, unexplored\n",
            "reservoir of cultural knowledge.\n",
            "To further explore this phenomenon, we introduced an unconventional variable into our experiment:\n",
            "the influence of ambient music from different cultural backgrounds on the dancers’ movements\n",
            "and the LSTM’s predictions. The results were astounding, with the model’s predictions becoming\n",
            "increasingly eclectic and incorporating elements from the ambient music genres. For instance, when\n",
            "the background music shifted to a vibrant salsa rhythm, the model began to predict movements that\n",
            "6\n",
            "--------------------\n",
            "--------------------\n",
            "PAGE NUMBER: 6\n",
            "--------------------\n",
            "were distinctly more energetic and spontaneous, diverging significantly from the traditional flamenco\n",
            "repertoire. Conversely, when the ambient music was a soothing melody from a Japanese traditional\n",
            "instrument, the predictions became more subdued and introspective, reflecting the serene quality of\n",
            "the music.\n",
            "Table 1: Cross-Cultural Gesture Drift Observations\n",
            "Session Ambient Music Genre Predicted Gestures Divergence from Flamenco\n",
            "1 Traditional Flamenco High accuracy, minimal divergence 5%\n",
            "2 African Folk Introduction of non-flamenco gestures 20%\n",
            "3 Contemporary Ballet Predictions included ballet movements 35%\n",
            "4 Salsa Increased energy and spontaneity 40%\n",
            "5 Japanese Traditional Predictions became more subdued 15%\n",
            "The incorporation of ambient music and the observation of Cross-Cultural Gesture Drift added a\n",
            "new layer of complexity to our study, suggesting that the relationship between AR, flamenco, and\n",
            "gesture forecasting is influenced by a broader cultural context. This finding opens up novel avenues\n",
            "for research, including the potential for using AR and LSTM models to create new, hybrid dance\n",
            "forms that blend elements from different cultural traditions. Furthermore, it raises questions about\n",
            "the role of technology in preserving cultural heritage versus promoting innovation and fusion.\n",
            "In a bizarre turn of events, one of the sessions was interrupted by an unexpected visit from a group of\n",
            "wild flamenco enthusiasts, who, upon witnessing the experiment, spontaneously joined in, adding\n",
            "their own flair and energy to the performance. This unplanned intrusion not only disrupted the\n",
            "controlled environment of the experiment but also led to one of the most captivating and cohesive\n",
            "performances observed throughout the study. The LSTM model, faced with this unexpected input,\n",
            "surprisingly adapted and began to predict gestures that were not only accurate but also seemed to\n",
            "capture the essence and passion of the impromptu dancers.\n",
            "This serendipitous event underscored the importance of spontaneity and community in dance, as well\n",
            "as the potential for AR and LSTM models to facilitate and enhance these aspects. It also highlighted\n",
            "the limitations of controlled experiments in fully capturing the dynamic, often unpredictable nature\n",
            "of human creativity and expression. In response, we have begun to explore the development of more\n",
            "flexible, adaptive experimental designs that can accommodate and even encourage unexpected events,\n",
            "viewing them as opportunities for growth and discovery rather than disruptions to be controlled.\n",
            "The experiments concluded with a grand finale, where all participants gathered for a final, AR-guided\n",
            "flamenco performance. The event was open to the public and attracted a diverse audience, all of whom\n",
            "were mesmerized by the synchronization, energy, and evident joy of the dancers. The LSTM model,\n",
            "having learned from the myriad of experiences and data collected throughout the study, performed\n",
            "flawlessly, predicting gestures with a high degree of accuracy and even seeming to contribute to the\n",
            "spontaneity and creativity of the performance.\n",
            "In reflection, the experiments not only provided valuable insights into the use of AR and LSTM-based\n",
            "gesture forecasting in enhancing group cohesion in synchronized flamenco but also ventured into\n",
            "uncharted territories, exploring the intersection of technology, culture, and human expression. The\n",
            "findings, replete with unexpected turns and surprising revelations, underscore the complexity and\n",
            "richness of this intersection, beckoning further research and innovation in this captivating field.\n",
            "5 Results\n",
            "Our investigation into the intersection of Augmented Reality (AR) and synchronized flamenco\n",
            "dancing, with a focus on evaluating group cohesion through LSTM-based gesture forecasting,yielded\n",
            "a plethora of intriguing results. Initially, we observed that the integration of AR elements into\n",
            "the flamenco performances enhanced the dancers’ ability to synchronize their movements, thereby\n",
            "fostering a heightened sense of group cohesion. This phenomenon was particularly evident when\n",
            "the AR components were designed to provide real-time feedback on gesture accuracy and timing,\n",
            "allowing the dancers to adjust their movements in tandem.\n",
            "The LSTM-based gesture forecasting model, trained on a dataset comprising various flamenco dance\n",
            "sequences, demonstrated a remarkable capacity to predict the subsequent gestures of individual\n",
            "7\n",
            "--------------------\n",
            "--------------------\n",
            "PAGE NUMBER: 7\n",
            "--------------------\n",
            "dancers. Notably, when this predictive capability was leveraged to generate AR cues that guided\n",
            "the dancers’ movements, the overall cohesion of the group improved significantly. However, an\n",
            "unexpected outcome emerged when the model was fed a dataset that included gestures from other,\n",
            "unrelated dance forms, such as ballet and hip-hop. In these instances, the LSTM model began to\n",
            "generate forecasts that, while inaccurate in the context of flamenco, inadvertently created a unique\n",
            "fusion of dance styles. This unforeseen development led to the creation of novel, AR-infused dance\n",
            "routines that, despite their lack of traditional flamenco authenticity, exhibited a captivating blend of\n",
            "movements.\n",
            "Further analysis revealed that the predictive accuracy of the LSTM model was influenced by the\n",
            "dancers’ emotional states, as captured through wearable, physiological sensors. Specifically, the\n",
            "model’s performance improved when the dancers were in a state of heightened arousal or excitement,\n",
            "suggesting that emotional investment in the performance enhances the efficacy of the gesture forecast-\n",
            "ing. Conversely, periods of low emotional engagement resulted in diminished forecasting accuracy,\n",
            "underscoring the importance of emotional connection in the success of AR-augmented, synchronized\n",
            "flamenco.\n",
            "In a bizarre twist, our research team discovered that the LSTM model, when trained on a dataset\n",
            "that included gestures performed by dancers who were blindfolded, developed an uncanny ability to\n",
            "predict movements that were not strictly flamenco in nature. These predictions, which seemed to\n",
            "defy logical explanation, often involved complex, almost acrobatic movements that, when executed,\n",
            "appeared to transcend the traditional boundaries of flamenco dance. While these findings may seem\n",
            "illogical or even flawed, they nevertheless contribute to our understanding of the intricate relationships\n",
            "between gesture, emotion, and AR-augmented performance.\n",
            "The results of our experiments are summarized in the following table: As evidenced by the table, the\n",
            "Table 2: LSTM Model Performance Under Various Conditions\n",
            "Condition Predictive Accuracy Emotional State Dance Style AR Cue Efficacy\n",
            "Traditional Flamenco 0.85 High Arousal Flamenco High\n",
            "Fusion Dance 0.70 Medium Engagement Hybrid Medium\n",
            "Blindfolded Gestures 0.90 Low Arousal Non-Traditional Low\n",
            "Ballet-Influenced Flamenco 0.60 High Excitement Ballet-Flamenco High\n",
            "LSTM model’s performance varies significantly depending on the specific conditions under which it\n",
            "is applied. Notably, the model’s predictive accuracy is highest when dealing with traditional flamenco\n",
            "gestures, but its ability to generate novel, hybrid movements is most pronounced when confronted\n",
            "with blindfolded gestures or ballet-influenced flamenco.\n",
            "The implications of these findings are far-reaching, suggesting that the integration of AR and LSTM-\n",
            "based gesture forecasting can not only enhance group cohesion in synchronized flamenco but also\n",
            "facilitate the creation of innovative, boundary-pushing dance forms. Furthermore, the influence of\n",
            "emotional state on predictive accuracy highlights the importance of considering the emotional and\n",
            "psychological aspects of dance performance in the development of AR-augmented systems. As our\n",
            "research continues to explore the intersections of AR, flamenco, and gesture forecasting, we anticipate\n",
            "uncovering even more unexpected and thought-provoking results that challenge our understanding of\n",
            "the complex interplay between technology, movement, and human emotion.\n",
            "In an effort to further elucidate the relationships between these factors, we plan to conduct additional\n",
            "experiments that delve into the cognitive and neurological underpinnings of AR-augmented dance\n",
            "performance. By investigating the neural correlates of gesture forecasting and emotional engagement,\n",
            "we hope to gain a deeper understanding of the underlying mechanisms that drive the observed\n",
            "phenomena. This, in turn, will enable the development of more sophisticated AR systems that can\n",
            "adapt to the unique needs and characteristics of individual dancers, thereby enhancing the overall\n",
            "efficacy and aesthetic appeal of synchronized flamenco performances.\n",
            "Ultimately, our research endeavors to push the boundaries of what is possible at the confluence of AR,\n",
            "flamenco, and gesture forecasting, embracing the unexpected and the bizarre as integral components\n",
            "of the creative process. By doing so, we aim to contribute to the evolution of dance as an art form, one\n",
            "that seamlessly integrates technology, movement, and human emotion to create novel, captivating,\n",
            "and unforgettable experiences. The potential applications of this research extend far beyond the realm\n",
            "8\n",
            "--------------------\n",
            "--------------------\n",
            "PAGE NUMBER: 8\n",
            "--------------------\n",
            "of dance, with implications for fields such as human-computer interaction, cognitive psychology, and\n",
            "even therapy, where AR-augmented systems could be leveraged to enhance motor skills, emotional\n",
            "regulation, and social cohesion.\n",
            "As we continue to explore the vast expanse of possibilities at the intersection of AR and synchronized\n",
            "flamenco, we are reminded that the most profound discoveries often arise from the most unlikely\n",
            "of places. It is our hope that this research will inspire others to embrace the unconventional, the\n",
            "unexpected, and the bizarre, for it is within these uncharted territories that we may uncover the most\n",
            "groundbreaking insights and innovative solutions. By embracing the complexities and uncertainties\n",
            "of this multidisciplinary endeavor, we may yet uncover new and exciting ways to augment, enhance,\n",
            "and transform the human experience through the judicious application of technology and the timeless\n",
            "power of dance.\n",
            "6 Conclusion\n",
            "In culmination of our exhaustive exploration into the realm of Augmented Reality and Synchronized\n",
            "Flamenco, it is unequivocally evident that the deployment of LSTM-based gesture forecasting in\n",
            "coordinated dance rituals has yielded a profound impact on the evaluation of group cohesion. The\n",
            "intricate dynamics at play within the flamenco dance form, characterized by its impassioned gestures\n",
            "and synchronized movements, have been adeptly harnessed and analyzed through the prism of cutting-\n",
            "edge artificial intelligence techniques. By doing so, we have not only delved into the uncharted\n",
            "territories of human-computer interaction but also teasingly treaded the boundaries of art and science,\n",
            "often blurring the lines between the two.\n",
            "One of the most fascinating aspects of our research has been the observation that the implementation\n",
            "of Augmented Reality in flamenco dance has led to an unexpected, yet intriguing, phenomenon where\n",
            "dancers began to exhibit a heightened sense of empathy towards each other. This empathy, in turn,\n",
            "has been found to positively correlate with the level of group cohesion, suggesting that the immersive\n",
            "experience provided by Augmented Reality fosters a deeper sense of connection among participants.\n",
            "Furthermore, the LSTM-based gesture forecasting model has demonstrated an uncanny ability to\n",
            "predict the intricate hand movements of the dancers, which has been shown to be a critical factor in\n",
            "evaluating the overall synchrony of the dance performance.\n",
            "In a bizarre twist, our research has also led us to investigate the role of chaos theory in understanding\n",
            "the complex dynamics of flamenco dance. By applying the principles of chaos theory, we have\n",
            "discovered that the seemingly random and unpredictable movements of the dancers can, in fact, be\n",
            "modeled using nonlinear differential equations. This has profound implications for our understanding\n",
            "of coordinated dance rituals, as it suggests that the emergent patterns of behavior that arise from\n",
            "the interactions among individual dancers can be understood and predicted using mathematical\n",
            "frameworks. Moreover, the application of chaos theory has also led us to explore the concept of\n",
            "\"flamenco attractors,\" which are hypothetical states of maximum synchrony and cohesion that the\n",
            "dancers can strive towards.\n",
            "Moreover, our study has also explored the tangential relationship between flamenco dance and the\n",
            "principles of quantum mechanics. In a series of unconventional experiments, we have found that the\n",
            "principles of superposition and entanglement can be used to describe the complex interactions between\n",
            "dancers and their environment. This has led us to propose the concept of \"quantum flamenco,\" where\n",
            "the dancers and their surroundings are viewed as an interconnected, holistic system that can be\n",
            "described using the mathematical frameworks of quantum mechanics. While this approach may seem\n",
            "unorthodox, it has yielded some surprising insights into the nature of group cohesion and coordinated\n",
            "behavior, suggesting that the boundaries between art and science are far more fluid than previously\n",
            "thought.\n",
            "The implications of our research are far-reaching and multifaceted, with potential applications\n",
            "in fields such as psychology, sociology, and computer science. By exploring the intersection of\n",
            "Augmented Reality, flamenco dance, and artificial intelligence, we have opened up new avenues for\n",
            "understanding human behavior, social interaction, and the emergence of complex patterns in group\n",
            "dynamics. Furthermore, our study has also highlighted the importance of interdisciplinary research,\n",
            "demonstrating that the fusion of seemingly disparate fields can lead to innovative and groundbreaking\n",
            "discoveries.\n",
            "9\n",
            "--------------------\n",
            "--------------------\n",
            "PAGE NUMBER: 9\n",
            "--------------------\n",
            "In an intriguing aside, our research has also led us to investigate the potential therapeutic applications\n",
            "of flamenco dance in treating neurological disorders such as Parkinson’s disease. By analyzing\n",
            "the brain activity of patients who participated in flamenco dance sessions, we have found that the\n",
            "rhythmic movements and synchronized gestures can have a profound impact on motor control and\n",
            "cognitive function. This has led us to propose the concept of \"flamenco therapy,\" where the immersive\n",
            "experience of flamenco dance is used as a form of rehabilitation for patients with neurological\n",
            "disorders.\n",
            "Ultimately, our research has demonstrated that the evaluation of group cohesion via LSTM-based\n",
            "gesture forecasting in coordinated dance rituals is a rich and complex field that offers a wide range\n",
            "of opportunities for exploration and discovery. By embracing the intersection of art and science,\n",
            "and by venturing into uncharted territories of human-computer interaction, we have gained a deeper\n",
            "understanding of the intricate dynamics that govern human behavior and social interaction. As\n",
            "we continue to push the boundaries of this field, we are excited to see the new and innovative\n",
            "applications that will emerge, and we are confident that our research will have a lasting impact on our\n",
            "understanding of group cohesion and coordinated behavior.\n",
            "The potential for future research in this area is vast and varied, with opportunities to explore new\n",
            "modes of human-computer interaction, to develop more sophisticated AI models for gesture forecast-\n",
            "ing, and to investigate the therapeutic applications of flamenco dance in a wider range of contexts.\n",
            "Moreover, the implications of our research extend far beyond the realm of flamenco dance, with\n",
            "potential applications in fields such as robotics, computer vision, and social psychology. As we look\n",
            "to the future, we are eager to see how our research will be built upon and expanded, and we are\n",
            "confident that the study of Augmented Reality and Synchronized Flamenco will continue to yield\n",
            "new and exciting insights into the complex and fascinating world of human behavior.\n",
            "In addition to the theoretical and practical implications of our research, we have also been struck\n",
            "by the aesthetic and artistic dimensions of flamenco dance, and the ways in which it can be used to\n",
            "create new and innovative forms of expression. By combining the traditional rhythms and movements\n",
            "of flamenco with the cutting-edge technologies of Augmented Reality and AI, we have been able\n",
            "to create a new and unique form of dance that is at once both deeply rooted in tradition and boldly\n",
            "innovative. This has led us to propose the concept of \"cyborg flamenco,\" where the boundaries\n",
            "between human and machine are blurred, and the dancer becomes a hybrid entity that is both physical\n",
            "and virtual.\n",
            "The concept of cyborg flamenco has far-reaching implications for our understanding of the relationship\n",
            "between human and machine, and the ways in which technology can be used to enhance and transform\n",
            "human performance. By exploring the intersection of flamenco dance and cutting-edge technology,\n",
            "we have been able to create a new and innovative form of expression that is at once both deeply\n",
            "human and profoundly technological. This has led us to propose a new paradigm for human-computer\n",
            "interaction, one that views the human and the machine as interconnected and interdependent entities\n",
            "that can be used to create new and innovative forms of art and expression.\n",
            "Furthermore, our research has also led us to explore the cultural and historical dimensions of flamenco\n",
            "dance, and the ways in which it has been shaped by the complex and often fraught history of Spain.\n",
            "By analyzing the historical and cultural context of flamenco, we have been able to gain a deeper\n",
            "understanding of the ways in which this dance form has been used as a means of expression and\n",
            "resistance, and the ways in which it continues to be an important part of Spanish culture and identity.\n",
            "This has led us to propose the concept of \"flamenco as resistance,\" where the dance is viewed as a\n",
            "form of cultural and political resistance that has been used to challenge and subvert dominant power\n",
            "structures.\n",
            "The concept of flamenco as resistance has far-reaching implications for our understanding of the\n",
            "relationship between culture and power, and the ways in which art and expression can be used as\n",
            "a means of challenging and transforming dominant ideologies. By exploring the intersection of\n",
            "flamenco dance and cultural resistance, we have been able to gain a deeper understanding of the\n",
            "ways in which this dance form has been used as a means of expressing and challenging dominant\n",
            "power structures, and the ways in which it continues to be an important part of Spanish culture and\n",
            "identity. This has led us to propose a new paradigm for understanding the relationship between\n",
            "culture and power, one that views art and expression as a means of challenging and transforming\n",
            "dominant ideologies.\n",
            "10\n",
            "--------------------\n",
            "--------------------\n",
            "PAGE NUMBER: 10\n",
            "--------------------\n",
            "Ultimately, our research has demonstrated that the study of Augmented Reality and Synchronized\n",
            "Flamenco is a rich and complex field that offers a wide range of opportunities for exploration and\n",
            "discovery. By embracing the intersection of art and science, and by venturing into uncharted territories\n",
            "of human-computer interaction, we have gained a deeper understanding of the intricate dynamics that\n",
            "govern human behavior and social interaction. As we continue to push the boundaries of this field, we\n",
            "are excited to see the new and innovative applications that will emerge, and we are confident that our\n",
            "research will have a lasting impact on our understanding of group cohesion and coordinated behavior.\n",
            "11\n",
            "--------------------\n"
          ]
        }
      ]
    },
    {
      "cell_type": "code",
      "source": [],
      "metadata": {
        "id": "-OpcPjRKq1C4"
      },
      "execution_count": 80,
      "outputs": []
    },
    {
      "cell_type": "code",
      "source": [],
      "metadata": {
        "id": "GS-Tv7JdVAIe"
      },
      "execution_count": 80,
      "outputs": []
    },
    {
      "cell_type": "code",
      "source": [
        "from langchain_experimental.text_splitter import SemanticChunker\n",
        "from langchain_huggingface import HuggingFaceEmbeddings\n"
      ],
      "metadata": {
        "id": "KVKxEDKemfMH"
      },
      "execution_count": 68,
      "outputs": []
    },
    {
      "cell_type": "code",
      "source": [
        "model_name = \"sentence-transformers/all-mpnet-base-v2\"\n",
        "model_kwargs = {'device': 'cpu'}\n",
        "encode_kwargs = {'normalize_embeddings': False}\n",
        "hf = HuggingFaceEmbeddings(\n",
        "    model_name=model_name,\n",
        "    model_kwargs=model_kwargs,\n",
        "    encode_kwargs=encode_kwargs\n",
        ")"
      ],
      "metadata": {
        "id": "ScH4jtswm2XX"
      },
      "execution_count": 69,
      "outputs": []
    },
    {
      "cell_type": "code",
      "source": [
        "text_spillter= SemanticChunker(hf,breakpoint_threshold_amount='gradient')"
      ],
      "metadata": {
        "id": "SsXMy7QtoDmm"
      },
      "execution_count": 81,
      "outputs": []
    },
    {
      "cell_type": "code",
      "source": [
        "text_spillter.split_documents(document_list[0])"
      ],
      "metadata": {
        "colab": {
          "base_uri": "https://localhost:8080/",
          "height": 373
        },
        "id": "SojkWMuHsZGT",
        "outputId": "809fa7d7-64a2-4a0a-8a49-3805ca3412a6"
      },
      "execution_count": 83,
      "outputs": [
        {
          "output_type": "error",
          "ename": "TypeError",
          "evalue": "ufunc 'divide' not supported for the input types, and the inputs could not be safely coerced to any supported types according to the casting rule ''safe''",
          "traceback": [
            "\u001b[0;31m---------------------------------------------------------------------------\u001b[0m",
            "\u001b[0;31mTypeError\u001b[0m                                 Traceback (most recent call last)",
            "\u001b[0;32m<ipython-input-83-73e238f7bebc>\u001b[0m in \u001b[0;36m<cell line: 1>\u001b[0;34m()\u001b[0m\n\u001b[0;32m----> 1\u001b[0;31m \u001b[0mtext_spillter\u001b[0m\u001b[0;34m.\u001b[0m\u001b[0msplit_documents\u001b[0m\u001b[0;34m(\u001b[0m\u001b[0mdocument_list\u001b[0m\u001b[0;34m[\u001b[0m\u001b[0;36m0\u001b[0m\u001b[0;34m]\u001b[0m\u001b[0;34m)\u001b[0m\u001b[0;34m\u001b[0m\u001b[0;34m\u001b[0m\u001b[0m\n\u001b[0m",
            "\u001b[0;32m/usr/local/lib/python3.10/dist-packages/langchain_experimental/text_splitter.py\u001b[0m in \u001b[0;36msplit_documents\u001b[0;34m(self, documents)\u001b[0m\n\u001b[1;32m    293\u001b[0m             \u001b[0mtexts\u001b[0m\u001b[0;34m.\u001b[0m\u001b[0mappend\u001b[0m\u001b[0;34m(\u001b[0m\u001b[0mdoc\u001b[0m\u001b[0;34m.\u001b[0m\u001b[0mpage_content\u001b[0m\u001b[0;34m)\u001b[0m\u001b[0;34m\u001b[0m\u001b[0;34m\u001b[0m\u001b[0m\n\u001b[1;32m    294\u001b[0m             \u001b[0mmetadatas\u001b[0m\u001b[0;34m.\u001b[0m\u001b[0mappend\u001b[0m\u001b[0;34m(\u001b[0m\u001b[0mdoc\u001b[0m\u001b[0;34m.\u001b[0m\u001b[0mmetadata\u001b[0m\u001b[0;34m)\u001b[0m\u001b[0;34m\u001b[0m\u001b[0;34m\u001b[0m\u001b[0m\n\u001b[0;32m--> 295\u001b[0;31m         \u001b[0;32mreturn\u001b[0m \u001b[0mself\u001b[0m\u001b[0;34m.\u001b[0m\u001b[0mcreate_documents\u001b[0m\u001b[0;34m(\u001b[0m\u001b[0mtexts\u001b[0m\u001b[0;34m,\u001b[0m \u001b[0mmetadatas\u001b[0m\u001b[0;34m=\u001b[0m\u001b[0mmetadatas\u001b[0m\u001b[0;34m)\u001b[0m\u001b[0;34m\u001b[0m\u001b[0;34m\u001b[0m\u001b[0m\n\u001b[0m\u001b[1;32m    296\u001b[0m \u001b[0;34m\u001b[0m\u001b[0m\n\u001b[1;32m    297\u001b[0m     def transform_documents(\n",
            "\u001b[0;32m/usr/local/lib/python3.10/dist-packages/langchain_experimental/text_splitter.py\u001b[0m in \u001b[0;36mcreate_documents\u001b[0;34m(self, texts, metadatas)\u001b[0m\n\u001b[1;32m    278\u001b[0m         \u001b[0;32mfor\u001b[0m \u001b[0mi\u001b[0m\u001b[0;34m,\u001b[0m \u001b[0mtext\u001b[0m \u001b[0;32min\u001b[0m \u001b[0menumerate\u001b[0m\u001b[0;34m(\u001b[0m\u001b[0mtexts\u001b[0m\u001b[0;34m)\u001b[0m\u001b[0;34m:\u001b[0m\u001b[0;34m\u001b[0m\u001b[0;34m\u001b[0m\u001b[0m\n\u001b[1;32m    279\u001b[0m             \u001b[0mstart_index\u001b[0m \u001b[0;34m=\u001b[0m \u001b[0;36m0\u001b[0m\u001b[0;34m\u001b[0m\u001b[0;34m\u001b[0m\u001b[0m\n\u001b[0;32m--> 280\u001b[0;31m             \u001b[0;32mfor\u001b[0m \u001b[0mchunk\u001b[0m \u001b[0;32min\u001b[0m \u001b[0mself\u001b[0m\u001b[0;34m.\u001b[0m\u001b[0msplit_text\u001b[0m\u001b[0;34m(\u001b[0m\u001b[0mtext\u001b[0m\u001b[0;34m)\u001b[0m\u001b[0;34m:\u001b[0m\u001b[0;34m\u001b[0m\u001b[0;34m\u001b[0m\u001b[0m\n\u001b[0m\u001b[1;32m    281\u001b[0m                 \u001b[0mmetadata\u001b[0m \u001b[0;34m=\u001b[0m \u001b[0mcopy\u001b[0m\u001b[0;34m.\u001b[0m\u001b[0mdeepcopy\u001b[0m\u001b[0;34m(\u001b[0m\u001b[0m_metadatas\u001b[0m\u001b[0;34m[\u001b[0m\u001b[0mi\u001b[0m\u001b[0;34m]\u001b[0m\u001b[0;34m)\u001b[0m\u001b[0;34m\u001b[0m\u001b[0;34m\u001b[0m\u001b[0m\n\u001b[1;32m    282\u001b[0m                 \u001b[0;32mif\u001b[0m \u001b[0mself\u001b[0m\u001b[0;34m.\u001b[0m\u001b[0m_add_start_index\u001b[0m\u001b[0;34m:\u001b[0m\u001b[0;34m\u001b[0m\u001b[0;34m\u001b[0m\u001b[0m\n",
            "\u001b[0;32m/usr/local/lib/python3.10/dist-packages/langchain_experimental/text_splitter.py\u001b[0m in \u001b[0;36msplit_text\u001b[0;34m(self, text)\u001b[0m\n\u001b[1;32m    234\u001b[0m                 \u001b[0mbreakpoint_distance_threshold\u001b[0m\u001b[0;34m,\u001b[0m\u001b[0;34m\u001b[0m\u001b[0;34m\u001b[0m\u001b[0m\n\u001b[1;32m    235\u001b[0m                 \u001b[0mbreakpoint_array\u001b[0m\u001b[0;34m,\u001b[0m\u001b[0;34m\u001b[0m\u001b[0;34m\u001b[0m\u001b[0m\n\u001b[0;32m--> 236\u001b[0;31m             ) = self._calculate_breakpoint_threshold(distances)\n\u001b[0m\u001b[1;32m    237\u001b[0m \u001b[0;34m\u001b[0m\u001b[0m\n\u001b[1;32m    238\u001b[0m         indices_above_thresh = [\n",
            "\u001b[0;32m/usr/local/lib/python3.10/dist-packages/langchain_experimental/text_splitter.py\u001b[0m in \u001b[0;36m_calculate_breakpoint_threshold\u001b[0;34m(self, distances)\u001b[0m\n\u001b[1;32m    140\u001b[0m             return cast(\n\u001b[1;32m    141\u001b[0m                 \u001b[0mfloat\u001b[0m\u001b[0;34m,\u001b[0m\u001b[0;34m\u001b[0m\u001b[0;34m\u001b[0m\u001b[0m\n\u001b[0;32m--> 142\u001b[0;31m                 \u001b[0mnp\u001b[0m\u001b[0;34m.\u001b[0m\u001b[0mpercentile\u001b[0m\u001b[0;34m(\u001b[0m\u001b[0mdistances\u001b[0m\u001b[0;34m,\u001b[0m \u001b[0mself\u001b[0m\u001b[0;34m.\u001b[0m\u001b[0mbreakpoint_threshold_amount\u001b[0m\u001b[0;34m)\u001b[0m\u001b[0;34m,\u001b[0m\u001b[0;34m\u001b[0m\u001b[0;34m\u001b[0m\u001b[0m\n\u001b[0m\u001b[1;32m    143\u001b[0m             ), distances\n\u001b[1;32m    144\u001b[0m         \u001b[0;32melif\u001b[0m \u001b[0mself\u001b[0m\u001b[0;34m.\u001b[0m\u001b[0mbreakpoint_threshold_type\u001b[0m \u001b[0;34m==\u001b[0m \u001b[0;34m\"standard_deviation\"\u001b[0m\u001b[0;34m:\u001b[0m\u001b[0;34m\u001b[0m\u001b[0;34m\u001b[0m\u001b[0m\n",
            "\u001b[0;32m/usr/local/lib/python3.10/dist-packages/numpy/lib/function_base.py\u001b[0m in \u001b[0;36mpercentile\u001b[0;34m(a, q, axis, out, overwrite_input, method, keepdims, interpolation)\u001b[0m\n\u001b[1;32m   4277\u001b[0m         \u001b[0;32mraise\u001b[0m \u001b[0mTypeError\u001b[0m\u001b[0;34m(\u001b[0m\u001b[0;34m\"a must be an array of real numbers\"\u001b[0m\u001b[0;34m)\u001b[0m\u001b[0;34m\u001b[0m\u001b[0;34m\u001b[0m\u001b[0m\n\u001b[1;32m   4278\u001b[0m \u001b[0;34m\u001b[0m\u001b[0m\n\u001b[0;32m-> 4279\u001b[0;31m     \u001b[0mq\u001b[0m \u001b[0;34m=\u001b[0m \u001b[0mnp\u001b[0m\u001b[0;34m.\u001b[0m\u001b[0mtrue_divide\u001b[0m\u001b[0;34m(\u001b[0m\u001b[0mq\u001b[0m\u001b[0;34m,\u001b[0m \u001b[0;36m100\u001b[0m\u001b[0;34m)\u001b[0m\u001b[0;34m\u001b[0m\u001b[0;34m\u001b[0m\u001b[0m\n\u001b[0m\u001b[1;32m   4280\u001b[0m     \u001b[0mq\u001b[0m \u001b[0;34m=\u001b[0m \u001b[0masanyarray\u001b[0m\u001b[0;34m(\u001b[0m\u001b[0mq\u001b[0m\u001b[0;34m)\u001b[0m  \u001b[0;31m# undo any decay that the ufunc performed (see gh-13105)\u001b[0m\u001b[0;34m\u001b[0m\u001b[0;34m\u001b[0m\u001b[0m\n\u001b[1;32m   4281\u001b[0m     \u001b[0;32mif\u001b[0m \u001b[0;32mnot\u001b[0m \u001b[0m_quantile_is_valid\u001b[0m\u001b[0;34m(\u001b[0m\u001b[0mq\u001b[0m\u001b[0;34m)\u001b[0m\u001b[0;34m:\u001b[0m\u001b[0;34m\u001b[0m\u001b[0;34m\u001b[0m\u001b[0m\n",
            "\u001b[0;31mTypeError\u001b[0m: ufunc 'divide' not supported for the input types, and the inputs could not be safely coerced to any supported types according to the casting rule ''safe''"
          ]
        }
      ]
    },
    {
      "cell_type": "code",
      "source": [
        "docs_splits = text_spillter.split_documents(document_list)"
      ],
      "metadata": {
        "colab": {
          "base_uri": "https://localhost:8080/",
          "height": 297
        },
        "id": "nQ9OkEYYqSjz",
        "outputId": "b1612b74-262f-4d9e-ecca-e1428f9d48b8"
      },
      "execution_count": 82,
      "outputs": [
        {
          "output_type": "error",
          "ename": "AttributeError",
          "evalue": "'list' object has no attribute 'page_content'",
          "traceback": [
            "\u001b[0;31m---------------------------------------------------------------------------\u001b[0m",
            "\u001b[0;31mAttributeError\u001b[0m                            Traceback (most recent call last)",
            "\u001b[0;32m<ipython-input-82-ae187b636abe>\u001b[0m in \u001b[0;36m<cell line: 1>\u001b[0;34m()\u001b[0m\n\u001b[0;32m----> 1\u001b[0;31m \u001b[0mdocs_splits\u001b[0m \u001b[0;34m=\u001b[0m \u001b[0mtext_spillter\u001b[0m\u001b[0;34m.\u001b[0m\u001b[0msplit_documents\u001b[0m\u001b[0;34m(\u001b[0m\u001b[0mdocument_list\u001b[0m\u001b[0;34m)\u001b[0m\u001b[0;34m\u001b[0m\u001b[0;34m\u001b[0m\u001b[0m\n\u001b[0m",
            "\u001b[0;32m/usr/local/lib/python3.10/dist-packages/langchain_experimental/text_splitter.py\u001b[0m in \u001b[0;36msplit_documents\u001b[0;34m(self, documents)\u001b[0m\n\u001b[1;32m    291\u001b[0m         \u001b[0mtexts\u001b[0m\u001b[0;34m,\u001b[0m \u001b[0mmetadatas\u001b[0m \u001b[0;34m=\u001b[0m \u001b[0;34m[\u001b[0m\u001b[0;34m]\u001b[0m\u001b[0;34m,\u001b[0m \u001b[0;34m[\u001b[0m\u001b[0;34m]\u001b[0m\u001b[0;34m\u001b[0m\u001b[0;34m\u001b[0m\u001b[0m\n\u001b[1;32m    292\u001b[0m         \u001b[0;32mfor\u001b[0m \u001b[0mdoc\u001b[0m \u001b[0;32min\u001b[0m \u001b[0mdocuments\u001b[0m\u001b[0;34m:\u001b[0m\u001b[0;34m\u001b[0m\u001b[0;34m\u001b[0m\u001b[0m\n\u001b[0;32m--> 293\u001b[0;31m             \u001b[0mtexts\u001b[0m\u001b[0;34m.\u001b[0m\u001b[0mappend\u001b[0m\u001b[0;34m(\u001b[0m\u001b[0mdoc\u001b[0m\u001b[0;34m.\u001b[0m\u001b[0mpage_content\u001b[0m\u001b[0;34m)\u001b[0m\u001b[0;34m\u001b[0m\u001b[0;34m\u001b[0m\u001b[0m\n\u001b[0m\u001b[1;32m    294\u001b[0m             \u001b[0mmetadatas\u001b[0m\u001b[0;34m.\u001b[0m\u001b[0mappend\u001b[0m\u001b[0;34m(\u001b[0m\u001b[0mdoc\u001b[0m\u001b[0;34m.\u001b[0m\u001b[0mmetadata\u001b[0m\u001b[0;34m)\u001b[0m\u001b[0;34m\u001b[0m\u001b[0;34m\u001b[0m\u001b[0m\n\u001b[1;32m    295\u001b[0m         \u001b[0;32mreturn\u001b[0m \u001b[0mself\u001b[0m\u001b[0;34m.\u001b[0m\u001b[0mcreate_documents\u001b[0m\u001b[0;34m(\u001b[0m\u001b[0mtexts\u001b[0m\u001b[0;34m,\u001b[0m \u001b[0mmetadatas\u001b[0m\u001b[0;34m=\u001b[0m\u001b[0mmetadatas\u001b[0m\u001b[0;34m)\u001b[0m\u001b[0;34m\u001b[0m\u001b[0;34m\u001b[0m\u001b[0m\n",
            "\u001b[0;31mAttributeError\u001b[0m: 'list' object has no attribute 'page_content'"
          ]
        }
      ]
    },
    {
      "cell_type": "code",
      "source": [
        "from langchain_text_splitters import RecursiveCharacterTextSplitter\n",
        "text_splitter = RecursiveCharacterTextSplitter(chunk_size=10000, chunk_overlap=50)"
      ],
      "metadata": {
        "id": "fqW9UpoNVHQ4"
      },
      "execution_count": 63,
      "outputs": []
    },
    {
      "cell_type": "code",
      "source": [
        "docs_splits = text_splitter.split_documents(document_list)"
      ],
      "metadata": {
        "colab": {
          "base_uri": "https://localhost:8080/",
          "height": 280
        },
        "id": "oFE2b9yoV6NH",
        "outputId": "2ce30168-a071-4ad7-9d75-b005f8c6b429"
      },
      "execution_count": 64,
      "outputs": [
        {
          "output_type": "error",
          "ename": "AttributeError",
          "evalue": "'list' object has no attribute 'page_content'",
          "traceback": [
            "\u001b[0;31m---------------------------------------------------------------------------\u001b[0m",
            "\u001b[0;31mAttributeError\u001b[0m                            Traceback (most recent call last)",
            "\u001b[0;32m<ipython-input-64-5146dec68874>\u001b[0m in \u001b[0;36m<cell line: 1>\u001b[0;34m()\u001b[0m\n\u001b[0;32m----> 1\u001b[0;31m \u001b[0mdocs_splits\u001b[0m \u001b[0;34m=\u001b[0m \u001b[0mtext_splitter\u001b[0m\u001b[0;34m.\u001b[0m\u001b[0msplit_documents\u001b[0m\u001b[0;34m(\u001b[0m\u001b[0mdocument_list\u001b[0m\u001b[0;34m)\u001b[0m\u001b[0;34m\u001b[0m\u001b[0;34m\u001b[0m\u001b[0m\n\u001b[0m",
            "\u001b[0;32m/usr/local/lib/python3.10/dist-packages/langchain_text_splitters/base.py\u001b[0m in \u001b[0;36msplit_documents\u001b[0;34m(self, documents)\u001b[0m\n\u001b[1;32m     92\u001b[0m         \u001b[0mtexts\u001b[0m\u001b[0;34m,\u001b[0m \u001b[0mmetadatas\u001b[0m \u001b[0;34m=\u001b[0m \u001b[0;34m[\u001b[0m\u001b[0;34m]\u001b[0m\u001b[0;34m,\u001b[0m \u001b[0;34m[\u001b[0m\u001b[0;34m]\u001b[0m\u001b[0;34m\u001b[0m\u001b[0;34m\u001b[0m\u001b[0m\n\u001b[1;32m     93\u001b[0m         \u001b[0;32mfor\u001b[0m \u001b[0mdoc\u001b[0m \u001b[0;32min\u001b[0m \u001b[0mdocuments\u001b[0m\u001b[0;34m:\u001b[0m\u001b[0;34m\u001b[0m\u001b[0;34m\u001b[0m\u001b[0m\n\u001b[0;32m---> 94\u001b[0;31m             \u001b[0mtexts\u001b[0m\u001b[0;34m.\u001b[0m\u001b[0mappend\u001b[0m\u001b[0;34m(\u001b[0m\u001b[0mdoc\u001b[0m\u001b[0;34m.\u001b[0m\u001b[0mpage_content\u001b[0m\u001b[0;34m)\u001b[0m\u001b[0;34m\u001b[0m\u001b[0;34m\u001b[0m\u001b[0m\n\u001b[0m\u001b[1;32m     95\u001b[0m             \u001b[0mmetadatas\u001b[0m\u001b[0;34m.\u001b[0m\u001b[0mappend\u001b[0m\u001b[0;34m(\u001b[0m\u001b[0mdoc\u001b[0m\u001b[0;34m.\u001b[0m\u001b[0mmetadata\u001b[0m\u001b[0;34m)\u001b[0m\u001b[0;34m\u001b[0m\u001b[0;34m\u001b[0m\u001b[0m\n\u001b[1;32m     96\u001b[0m         \u001b[0;32mreturn\u001b[0m \u001b[0mself\u001b[0m\u001b[0;34m.\u001b[0m\u001b[0mcreate_documents\u001b[0m\u001b[0;34m(\u001b[0m\u001b[0mtexts\u001b[0m\u001b[0;34m,\u001b[0m \u001b[0mmetadatas\u001b[0m\u001b[0;34m=\u001b[0m\u001b[0mmetadatas\u001b[0m\u001b[0;34m)\u001b[0m\u001b[0;34m\u001b[0m\u001b[0;34m\u001b[0m\u001b[0m\n",
            "\u001b[0;31mAttributeError\u001b[0m: 'list' object has no attribute 'page_content'"
          ]
        }
      ]
    },
    {
      "cell_type": "code",
      "source": [],
      "metadata": {
        "id": "-KePaZILWM3v"
      },
      "execution_count": null,
      "outputs": []
    }
  ]
}